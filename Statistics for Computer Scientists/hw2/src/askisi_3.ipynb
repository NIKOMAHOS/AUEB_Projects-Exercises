{
 "cells": [
  {
   "cell_type": "code",
   "execution_count": 3,
   "metadata": {},
   "outputs": [],
   "source": [
    "import scipy.stats as stats\n",
    "z_statistic = 1.34 # given in the question"
   ]
  },
  {
   "cell_type": "markdown",
   "metadata": {},
   "source": [
    "### Σε έλεγχο σημαντικότητας με μηδενική υπόθεση H0: μ = μ0 η τιμή του στατιστικού ελέγχου z (z-statistic) είναι 1.34"
   ]
  },
  {
   "cell_type": "markdown",
   "metadata": {},
   "source": [
    "- p value για την εναλλακτική υπόθεση 𝐻𝑎: 𝜇 > 𝜇0 ? [δεξιόστροφος έλεγχος]"
   ]
  },
  {
   "cell_type": "code",
   "execution_count": 7,
   "metadata": {},
   "outputs": [
    {
     "data": {
      "text/plain": [
       "0.09012267246445238"
      ]
     },
     "execution_count": 7,
     "metadata": {},
     "output_type": "execute_result"
    }
   ],
   "source": [
    "p_value_right = 1 - stats.norm.cdf(z_statistic)\n",
    "p_value_right"
   ]
  },
  {
   "cell_type": "markdown",
   "metadata": {},
   "source": [
    "- p value για την εναλλακτική υπόθεση 𝐻𝑎: 𝜇 < 𝜇0 ? [αριστερόστροφος έλεγχος]"
   ]
  },
  {
   "cell_type": "code",
   "execution_count": 8,
   "metadata": {},
   "outputs": [
    {
     "data": {
      "text/plain": [
       "0.9098773275355476"
      ]
     },
     "execution_count": 8,
     "metadata": {},
     "output_type": "execute_result"
    }
   ],
   "source": [
    "p_value_left = stats.norm.cdf(z_statistic)\n",
    "p_value_left"
   ]
  },
  {
   "cell_type": "markdown",
   "metadata": {},
   "source": [
    "- p value για την εναλλακτική υπόθεση 𝐻𝑎: 𝜇 ≠ 𝜇0 ? [έλεγχος δύο κατευθύνσεων]"
   ]
  },
  {
   "cell_type": "code",
   "execution_count": 11,
   "metadata": {},
   "outputs": [
    {
     "data": {
      "text/plain": [
       "0.18024534492890476"
      ]
     },
     "execution_count": 11,
     "metadata": {},
     "output_type": "execute_result"
    }
   ],
   "source": [
    "p_value_two_tailed = 2 * (1 - stats.norm.cdf(abs(z_statistic)))\n",
    "p_value_two_tailed"
   ]
  }
 ],
 "metadata": {
  "kernelspec": {
   "display_name": ".venv",
   "language": "python",
   "name": "python3"
  },
  "language_info": {
   "codemirror_mode": {
    "name": "ipython",
    "version": 3
   },
   "file_extension": ".py",
   "mimetype": "text/x-python",
   "name": "python",
   "nbconvert_exporter": "python",
   "pygments_lexer": "ipython3",
   "version": "3.11.7"
  }
 },
 "nbformat": 4,
 "nbformat_minor": 2
}
