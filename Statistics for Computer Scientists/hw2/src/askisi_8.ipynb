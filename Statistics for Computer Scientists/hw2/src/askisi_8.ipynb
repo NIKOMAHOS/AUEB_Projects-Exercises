{
 "cells": [
  {
   "cell_type": "code",
   "execution_count": 42,
   "metadata": {},
   "outputs": [],
   "source": [
    "import numpy as np\n",
    "import pandas as pd\n",
    "import scipy.stats as stats\n",
    "import matplotlib.pyplot as plt\n",
    "import seaborn as sns"
   ]
  },
  {
   "cell_type": "markdown",
   "metadata": {},
   "source": [
    "### Load the data"
   ]
  },
  {
   "cell_type": "code",
   "execution_count": 43,
   "metadata": {},
   "outputs": [
    {
     "data": {
      "text/html": [
       "<div>\n",
       "<style scoped>\n",
       "    .dataframe tbody tr th:only-of-type {\n",
       "        vertical-align: middle;\n",
       "    }\n",
       "\n",
       "    .dataframe tbody tr th {\n",
       "        vertical-align: top;\n",
       "    }\n",
       "\n",
       "    .dataframe thead th {\n",
       "        text-align: right;\n",
       "    }\n",
       "</style>\n",
       "<table border=\"1\" class=\"dataframe\">\n",
       "  <thead>\n",
       "    <tr style=\"text-align: right;\">\n",
       "      <th></th>\n",
       "      <th>music</th>\n",
       "      <th>os</th>\n",
       "      <th>gender</th>\n",
       "      <th>height</th>\n",
       "      <th>weight</th>\n",
       "      <th>shoe</th>\n",
       "      <th>month</th>\n",
       "      <th>color</th>\n",
       "      <th>pet</th>\n",
       "      <th>number</th>\n",
       "      <th>prob</th>\n",
       "      <th>math</th>\n",
       "    </tr>\n",
       "  </thead>\n",
       "  <tbody>\n",
       "    <tr>\n",
       "      <th>0</th>\n",
       "      <td>rock</td>\n",
       "      <td>MacOS</td>\n",
       "      <td>F</td>\n",
       "      <td>1.71</td>\n",
       "      <td>68.0</td>\n",
       "      <td>39.0</td>\n",
       "      <td>oct</td>\n",
       "      <td>purple</td>\n",
       "      <td>dog</td>\n",
       "      <td>88.0</td>\n",
       "      <td>3.0</td>\n",
       "      <td>5.0</td>\n",
       "    </tr>\n",
       "    <tr>\n",
       "      <th>1</th>\n",
       "      <td>rock</td>\n",
       "      <td>Windows</td>\n",
       "      <td>F</td>\n",
       "      <td>1.68</td>\n",
       "      <td>52.0</td>\n",
       "      <td>39.0</td>\n",
       "      <td>aug</td>\n",
       "      <td>brown</td>\n",
       "      <td>cat</td>\n",
       "      <td>73.0</td>\n",
       "      <td>7.0</td>\n",
       "      <td>5.0</td>\n",
       "    </tr>\n",
       "    <tr>\n",
       "      <th>2</th>\n",
       "      <td>rock</td>\n",
       "      <td>MacOS</td>\n",
       "      <td>M</td>\n",
       "      <td>1.80</td>\n",
       "      <td>84.0</td>\n",
       "      <td>43.0</td>\n",
       "      <td>may</td>\n",
       "      <td>black</td>\n",
       "      <td>dog</td>\n",
       "      <td>7.0</td>\n",
       "      <td>8.0</td>\n",
       "      <td>10.0</td>\n",
       "    </tr>\n",
       "    <tr>\n",
       "      <th>3</th>\n",
       "      <td>metal</td>\n",
       "      <td>Windows</td>\n",
       "      <td>M</td>\n",
       "      <td>1.74</td>\n",
       "      <td>85.0</td>\n",
       "      <td>44.0</td>\n",
       "      <td>nov</td>\n",
       "      <td>black</td>\n",
       "      <td>dog</td>\n",
       "      <td>100.0</td>\n",
       "      <td>3.5</td>\n",
       "      <td>6.0</td>\n",
       "    </tr>\n",
       "    <tr>\n",
       "      <th>4</th>\n",
       "      <td>hiphop</td>\n",
       "      <td>Windows</td>\n",
       "      <td>M</td>\n",
       "      <td>1.77</td>\n",
       "      <td>63.0</td>\n",
       "      <td>42.0</td>\n",
       "      <td>jan</td>\n",
       "      <td>black</td>\n",
       "      <td>dog</td>\n",
       "      <td>42.0</td>\n",
       "      <td>9.5</td>\n",
       "      <td>10.0</td>\n",
       "    </tr>\n",
       "  </tbody>\n",
       "</table>\n",
       "</div>"
      ],
      "text/plain": [
       "    music       os gender  height  weight  shoe month   color  pet  number  \\\n",
       "0    rock    MacOS      F    1.71    68.0  39.0   oct  purple  dog    88.0   \n",
       "1    rock  Windows      F    1.68    52.0  39.0   aug   brown  cat    73.0   \n",
       "2    rock    MacOS      M    1.80    84.0  43.0   may   black  dog     7.0   \n",
       "3   metal  Windows      M    1.74    85.0  44.0   nov   black  dog   100.0   \n",
       "4  hiphop  Windows      M    1.77    63.0  42.0   jan   black  dog    42.0   \n",
       "\n",
       "   prob  math  \n",
       "0   3.0   5.0  \n",
       "1   7.0   5.0  \n",
       "2   8.0  10.0  \n",
       "3   3.5   6.0  \n",
       "4   9.5  10.0  "
      ]
     },
     "execution_count": 43,
     "metadata": {},
     "output_type": "execute_result"
    }
   ],
   "source": [
    "df = pd.read_csv('..\\data\\survey_data_2023.csv')\n",
    "df.head()"
   ]
  },
  {
   "cell_type": "markdown",
   "metadata": {},
   "source": [
    "#### a. Βρείτε ένα 95% διάστημα εμπιστοσύνης για τη διαφορά του μέσου ύψους μεταξύ ανδρών και γυναικών φοιτητών πληροφορικής του ΟΠΑ"
   ]
  },
  {
   "cell_type": "markdown",
   "metadata": {},
   "source": [
    "#### Χωρίζουμε τα δεδομένα μας σε δύο ομάδες, σε άνδρες και σε γυναίκες και κρατάμε μόνο την στήλη που περιέχει το ύψος του καθενός."
   ]
  },
  {
   "cell_type": "code",
   "execution_count": 44,
   "metadata": {},
   "outputs": [
    {
     "data": {
      "text/plain": [
       "2    1.80\n",
       "3    1.74\n",
       "4    1.77\n",
       "5    1.80\n",
       "9    1.75\n",
       "Name: height, dtype: float64"
      ]
     },
     "execution_count": 44,
     "metadata": {},
     "output_type": "execute_result"
    }
   ],
   "source": [
    "# Height of all men\n",
    "men_height = df.groupby('gender').get_group('M')['height']\n",
    "count_of_men = men_height.count() # 81\n",
    "men_height.head()"
   ]
  },
  {
   "cell_type": "code",
   "execution_count": 45,
   "metadata": {},
   "outputs": [
    {
     "data": {
      "image/png": "[encoded data removed]",
      "text/plain": [
       "<Figure size 640x480 with 1 Axes>"
      ]
     },
     "metadata": {},
     "output_type": "display_data"
    }
   ],
   "source": [
    "sns.boxplot(men_height)\n",
    "plt.title('Height of all men')\n",
    "plt.show()"
   ]
  },
  {
   "cell_type": "markdown",
   "metadata": {},
   "source": [
    "- Δεν παρατηρούμε ατυπικά σημεία."
   ]
  },
  {
   "cell_type": "code",
   "execution_count": 46,
   "metadata": {},
   "outputs": [
    {
     "data": {
      "image/png": "[encoded data removed]",
      "text/plain": [
       "<Figure size 800x600 with 1 Axes>"
      ]
     },
     "metadata": {},
     "output_type": "display_data"
    }
   ],
   "source": [
    "# Creating a Q-Q plot\n",
    "plt.figure(figsize=(8, 6))\n",
    "stats.probplot(men_height, dist=\"norm\", plot=plt)\n",
    "plt.title('Q-Q Plot for Normality Check')\n",
    "plt.show()"
   ]
  },
  {
   "cell_type": "markdown",
   "metadata": {},
   "source": [
    "- Όχι ιδιαίτερα κοντά στην κανονική κατανομή, αλλά αρκετά μεγάλο δείγμα (n = 81 >> 15 ) για να έχει ενας στατιστικός έλεγχος t ικανοποιητική ακρίβεια "
   ]
  },
  {
   "cell_type": "code",
   "execution_count": 47,
   "metadata": {},
   "outputs": [
    {
     "data": {
      "text/plain": [
       "0    1.71\n",
       "1    1.68\n",
       "6    1.60\n",
       "7    1.63\n",
       "8    1.75\n",
       "Name: height, dtype: float64"
      ]
     },
     "execution_count": 47,
     "metadata": {},
     "output_type": "execute_result"
    }
   ],
   "source": [
    "# Height of all women\n",
    "women_height = df.groupby('gender').get_group('F')['height']\n",
    "count_of_women = women_height.count() #26 \n",
    "women_height.head()"
   ]
  },
  {
   "cell_type": "code",
   "execution_count": 48,
   "metadata": {},
   "outputs": [
    {
     "data": {
      "image/png": "[encoded data removed]",
      "text/plain": [
       "<Figure size 640x480 with 1 Axes>"
      ]
     },
     "metadata": {},
     "output_type": "display_data"
    }
   ],
   "source": [
    "sns.boxplot(women_height)\n",
    "plt.title(\"Height of all women\")\n",
    "plt.show()"
   ]
  },
  {
   "cell_type": "markdown",
   "metadata": {},
   "source": [
    "- Δεν παρατηρούμε ατυπικά σημεία."
   ]
  },
  {
   "cell_type": "code",
   "execution_count": 49,
   "metadata": {},
   "outputs": [
    {
     "data": {
      "image/png": "[encoded data removed]",
      "text/plain": [
       "<Figure size 800x600 with 1 Axes>"
      ]
     },
     "metadata": {},
     "output_type": "display_data"
    }
   ],
   "source": [
    "# Creating a Q-Q plot\n",
    "plt.figure(figsize=(8, 6))\n",
    "stats.probplot(women_height, dist=\"norm\", plot=plt)\n",
    "plt.title('Q-Q Plot for Normality Check')\n",
    "plt.show()"
   ]
  },
  {
   "cell_type": "markdown",
   "metadata": {},
   "source": [
    "- Όχι ιδιαίτερα κοντά στην κανονική κατανομή, αλλά αρκετά μεγάλο δείγμα (n = 26 >> 15 ) για να έχει ενας στατιστικός έλεγχος t ικανοποιητική ακρίβεια "
   ]
  },
  {
   "cell_type": "markdown",
   "metadata": {},
   "source": [
    "#### Μέσο ύψος Ανδρών"
   ]
  },
  {
   "cell_type": "code",
   "execution_count": 50,
   "metadata": {},
   "outputs": [
    {
     "data": {
      "text/plain": [
       "1.7870930232558142"
      ]
     },
     "execution_count": 50,
     "metadata": {},
     "output_type": "execute_result"
    }
   ],
   "source": [
    "men_mean_height = men_height.mean()\n",
    "men_mean_height"
   ]
  },
  {
   "cell_type": "markdown",
   "metadata": {},
   "source": [
    "#### Μέσο ύψος Γυναικών"
   ]
  },
  {
   "cell_type": "code",
   "execution_count": 51,
   "metadata": {},
   "outputs": [
    {
     "data": {
      "text/plain": [
       "1.6660465116279073"
      ]
     },
     "execution_count": 51,
     "metadata": {},
     "output_type": "execute_result"
    }
   ],
   "source": [
    "women_mean_height = women_height.mean()\n",
    "women_mean_height"
   ]
  },
  {
   "cell_type": "markdown",
   "metadata": {},
   "source": [
    "#### Τυπική Απόκλιση ύψους για τους άνδρες"
   ]
  },
  {
   "cell_type": "code",
   "execution_count": 52,
   "metadata": {},
   "outputs": [
    {
     "data": {
      "text/plain": [
       "0.05978129314071357"
      ]
     },
     "execution_count": 52,
     "metadata": {},
     "output_type": "execute_result"
    }
   ],
   "source": [
    "men_std_height = men_height.std(ddof=1) # ddof=1 for sample standard deviation\n",
    "men_std_height"
   ]
  },
  {
   "cell_type": "markdown",
   "metadata": {},
   "source": [
    "#### Τυπική Απόκλιση ύψους για τις γυναίκες"
   ]
  },
  {
   "cell_type": "code",
   "execution_count": 53,
   "metadata": {},
   "outputs": [
    {
     "data": {
      "text/plain": [
       "0.051136583441924954"
      ]
     },
     "execution_count": 53,
     "metadata": {},
     "output_type": "execute_result"
    }
   ],
   "source": [
    "women_std_height = women_height.std(ddof=1) # ddof=1 for sample standard deviation\n",
    "women_std_height"
   ]
  },
  {
   "cell_type": "code",
   "execution_count": 54,
   "metadata": {},
   "outputs": [
    {
     "data": {
      "text/plain": [
       "0.12104651162790692"
      ]
     },
     "execution_count": 54,
     "metadata": {},
     "output_type": "execute_result"
    }
   ],
   "source": [
    "delta_mean_height = abs(men_mean_height - women_mean_height)\n",
    "delta_mean_height"
   ]
  },
  {
   "cell_type": "code",
   "execution_count": 55,
   "metadata": {},
   "outputs": [
    {
     "data": {
      "text/plain": [
       "0.010117739051256642"
      ]
     },
     "execution_count": 55,
     "metadata": {},
     "output_type": "execute_result"
    }
   ],
   "source": [
    "men_std_height_squared = men_std_height ** 2\n",
    "women_std_height_squared = women_std_height ** 2\n",
    "delta_sem_height = np.sqrt( (men_std_height_squared / count_of_men) + (women_std_height_squared / count_of_women) )\n",
    "delta_sem_height"
   ]
  },
  {
   "cell_type": "code",
   "execution_count": 56,
   "metadata": {},
   "outputs": [
    {
     "data": {
      "text/plain": [
       "2.018081697095881"
      ]
     },
     "execution_count": 56,
     "metadata": {},
     "output_type": "execute_result"
    }
   ],
   "source": [
    "confidence_level = 0.95\n",
    "degrees_of_freedom = min(count_of_men - 1, count_of_women - 1)\n",
    "t_score_95 = stats.t.ppf( (1 + confidence_level) /2, degrees_of_freedom) # t-score for 95% confidence interval\n",
    "t_score_95"
   ]
  },
  {
   "cell_type": "code",
   "execution_count": 57,
   "metadata": {},
   "outputs": [
    {
     "data": {
      "text/plain": [
       "0.020418423995333272"
      ]
     },
     "execution_count": 57,
     "metadata": {},
     "output_type": "execute_result"
    }
   ],
   "source": [
    "margin_of_error_95 = delta_sem_height * t_score_95\n",
    "margin_of_error_95"
   ]
  },
  {
   "cell_type": "code",
   "execution_count": 58,
   "metadata": {},
   "outputs": [
    {
     "data": {
      "text/plain": [
       "(0.10062808763257364, 0.1414649356232402)"
      ]
     },
     "execution_count": 58,
     "metadata": {},
     "output_type": "execute_result"
    }
   ],
   "source": [
    "confidence_interval_95 = (delta_mean_height - abs(margin_of_error_95), delta_mean_height + abs(margin_of_error_95))\n",
    "confidence_interval_95"
   ]
  },
  {
   "cell_type": "markdown",
   "metadata": {},
   "source": [
    "#### b. Οι άνδρες φοιτητές πληροφορικής -που έχουν πάρει ή θα έπαιρναν το μάθημα «Στατιστική στην Πληροφορική»-, επιτυγχάνουν μεγαλύτερο μέσο βαθμό στο μάθημα των Πιθανοτήτων από τον αντίστοιχο πληθυσμό γυναικών; Απαντήστε σε επίπεδο σημαντικότητας 5%"
   ]
  },
  {
   "cell_type": "code",
   "execution_count": 59,
   "metadata": {},
   "outputs": [
    {
     "data": {
      "text/html": [
       "<div>\n",
       "<style scoped>\n",
       "    .dataframe tbody tr th:only-of-type {\n",
       "        vertical-align: middle;\n",
       "    }\n",
       "\n",
       "    .dataframe tbody tr th {\n",
       "        vertical-align: top;\n",
       "    }\n",
       "\n",
       "    .dataframe thead th {\n",
       "        text-align: right;\n",
       "    }\n",
       "</style>\n",
       "<table border=\"1\" class=\"dataframe\">\n",
       "  <thead>\n",
       "    <tr style=\"text-align: right;\">\n",
       "      <th></th>\n",
       "      <th>music</th>\n",
       "      <th>os</th>\n",
       "      <th>gender</th>\n",
       "      <th>height</th>\n",
       "      <th>weight</th>\n",
       "      <th>shoe</th>\n",
       "      <th>month</th>\n",
       "      <th>color</th>\n",
       "      <th>pet</th>\n",
       "      <th>number</th>\n",
       "      <th>prob</th>\n",
       "      <th>math</th>\n",
       "    </tr>\n",
       "  </thead>\n",
       "  <tbody>\n",
       "    <tr>\n",
       "      <th>0</th>\n",
       "      <td>rock</td>\n",
       "      <td>MacOS</td>\n",
       "      <td>F</td>\n",
       "      <td>1.71</td>\n",
       "      <td>68.0</td>\n",
       "      <td>39.0</td>\n",
       "      <td>oct</td>\n",
       "      <td>purple</td>\n",
       "      <td>dog</td>\n",
       "      <td>88.0</td>\n",
       "      <td>3.0</td>\n",
       "      <td>5.0</td>\n",
       "    </tr>\n",
       "    <tr>\n",
       "      <th>1</th>\n",
       "      <td>rock</td>\n",
       "      <td>Windows</td>\n",
       "      <td>F</td>\n",
       "      <td>1.68</td>\n",
       "      <td>52.0</td>\n",
       "      <td>39.0</td>\n",
       "      <td>aug</td>\n",
       "      <td>brown</td>\n",
       "      <td>cat</td>\n",
       "      <td>73.0</td>\n",
       "      <td>7.0</td>\n",
       "      <td>5.0</td>\n",
       "    </tr>\n",
       "    <tr>\n",
       "      <th>2</th>\n",
       "      <td>rock</td>\n",
       "      <td>MacOS</td>\n",
       "      <td>M</td>\n",
       "      <td>1.80</td>\n",
       "      <td>84.0</td>\n",
       "      <td>43.0</td>\n",
       "      <td>may</td>\n",
       "      <td>black</td>\n",
       "      <td>dog</td>\n",
       "      <td>7.0</td>\n",
       "      <td>8.0</td>\n",
       "      <td>10.0</td>\n",
       "    </tr>\n",
       "    <tr>\n",
       "      <th>3</th>\n",
       "      <td>metal</td>\n",
       "      <td>Windows</td>\n",
       "      <td>M</td>\n",
       "      <td>1.74</td>\n",
       "      <td>85.0</td>\n",
       "      <td>44.0</td>\n",
       "      <td>nov</td>\n",
       "      <td>black</td>\n",
       "      <td>dog</td>\n",
       "      <td>100.0</td>\n",
       "      <td>3.5</td>\n",
       "      <td>6.0</td>\n",
       "    </tr>\n",
       "    <tr>\n",
       "      <th>4</th>\n",
       "      <td>hiphop</td>\n",
       "      <td>Windows</td>\n",
       "      <td>M</td>\n",
       "      <td>1.77</td>\n",
       "      <td>63.0</td>\n",
       "      <td>42.0</td>\n",
       "      <td>jan</td>\n",
       "      <td>black</td>\n",
       "      <td>dog</td>\n",
       "      <td>42.0</td>\n",
       "      <td>9.5</td>\n",
       "      <td>10.0</td>\n",
       "    </tr>\n",
       "  </tbody>\n",
       "</table>\n",
       "</div>"
      ],
      "text/plain": [
       "    music       os gender  height  weight  shoe month   color  pet  number  \\\n",
       "0    rock    MacOS      F    1.71    68.0  39.0   oct  purple  dog    88.0   \n",
       "1    rock  Windows      F    1.68    52.0  39.0   aug   brown  cat    73.0   \n",
       "2    rock    MacOS      M    1.80    84.0  43.0   may   black  dog     7.0   \n",
       "3   metal  Windows      M    1.74    85.0  44.0   nov   black  dog   100.0   \n",
       "4  hiphop  Windows      M    1.77    63.0  42.0   jan   black  dog    42.0   \n",
       "\n",
       "   prob  math  \n",
       "0   3.0   5.0  \n",
       "1   7.0   5.0  \n",
       "2   8.0  10.0  \n",
       "3   3.5   6.0  \n",
       "4   9.5  10.0  "
      ]
     },
     "execution_count": 59,
     "metadata": {},
     "output_type": "execute_result"
    }
   ],
   "source": [
    "df.head()"
   ]
  },
  {
   "cell_type": "markdown",
   "metadata": {},
   "source": [
    "#### Χωρίζουμε τα δεδομένα μας σε δύο ομάδες, σε άνδρες και σε γυναίκες και κρατάμε μόνο την στήλη που περιέχει τον βαθμό του καθενός στις Πιθανότητες\n",
    "- Επιπλέον, όσες γραμμές είναι άδειες (Nan τιμές), τις αφαιρούμε."
   ]
  },
  {
   "cell_type": "code",
   "execution_count": 60,
   "metadata": {},
   "outputs": [],
   "source": [
    "men_prob = df.groupby('gender').get_group('M')['prob']\n",
    "men_prob = men_prob.dropna()\n",
    "count_of_men = men_prob.count()"
   ]
  },
  {
   "cell_type": "code",
   "execution_count": 61,
   "metadata": {},
   "outputs": [],
   "source": [
    "women_prob = df.groupby('gender').get_group('F')['prob']\n",
    "women_prob = women_prob.dropna()\n",
    "count_of_women = women_prob.count()"
   ]
  },
  {
   "cell_type": "markdown",
   "metadata": {},
   "source": [
    "#### Υπολογίζουμε τον μέσο βαθμό στις Πιθανότητες για τους άνδρες."
   ]
  },
  {
   "cell_type": "code",
   "execution_count": 62,
   "metadata": {},
   "outputs": [
    {
     "data": {
      "text/plain": [
       "6.104938271604938"
      ]
     },
     "execution_count": 62,
     "metadata": {},
     "output_type": "execute_result"
    }
   ],
   "source": [
    "men_mean_prob = men_prob.mean()\n",
    "men_mean_prob"
   ]
  },
  {
   "cell_type": "markdown",
   "metadata": {},
   "source": [
    "#### Υπολογίζουμε τον μέσο βαθμό στις Πιθανότητες για τις γυναίκες."
   ]
  },
  {
   "cell_type": "code",
   "execution_count": 63,
   "metadata": {},
   "outputs": [
    {
     "data": {
      "text/plain": [
       "5.966666666666667"
      ]
     },
     "execution_count": 63,
     "metadata": {},
     "output_type": "execute_result"
    }
   ],
   "source": [
    "women_mean_prob = women_prob.mean()\n",
    "women_mean_prob"
   ]
  },
  {
   "cell_type": "markdown",
   "metadata": {},
   "source": [
    "#### Υπολογίζουμε την τυπική απόκλιση των βαθμών των ανδρών στις Πιθανότητες"
   ]
  },
  {
   "cell_type": "code",
   "execution_count": 64,
   "metadata": {},
   "outputs": [
    {
     "data": {
      "text/plain": [
       "2.838040751758504"
      ]
     },
     "execution_count": 64,
     "metadata": {},
     "output_type": "execute_result"
    }
   ],
   "source": [
    "men_std_prob = men_prob.std(ddof=1) # ddof=1 for sample standard deviation\n",
    "men_std_prob"
   ]
  },
  {
   "cell_type": "markdown",
   "metadata": {},
   "source": [
    "#### Υπολογίζουμε την τυπική απόκλιση των βαθμών των γυναικών στις Πιθανότητες"
   ]
  },
  {
   "cell_type": "code",
   "execution_count": 65,
   "metadata": {},
   "outputs": [
    {
     "data": {
      "text/plain": [
       "2.466790925730101"
      ]
     },
     "execution_count": 65,
     "metadata": {},
     "output_type": "execute_result"
    }
   ],
   "source": [
    "women_std_prob = women_prob.std(ddof=1) # ddof=1 for sample standard deviation\n",
    "women_std_prob"
   ]
  },
  {
   "cell_type": "markdown",
   "metadata": {},
   "source": [
    "#### Εκτέλεση του t-test"
   ]
  },
  {
   "cell_type": "code",
   "execution_count": 66,
   "metadata": {},
   "outputs": [],
   "source": [
    "t_stat, p_value = stats.ttest_ind(men_prob, women_prob, equal_var=False)"
   ]
  },
  {
   "cell_type": "markdown",
   "metadata": {},
   "source": [
    "#### t-statistic (σε απόλυτη τιμή)"
   ]
  },
  {
   "cell_type": "code",
   "execution_count": 67,
   "metadata": {},
   "outputs": [
    {
     "data": {
      "text/plain": [
       "0.2514972094471861"
      ]
     },
     "execution_count": 67,
     "metadata": {},
     "output_type": "execute_result"
    }
   ],
   "source": [
    "abs(t_stat)"
   ]
  },
  {
   "cell_type": "markdown",
   "metadata": {},
   "source": [
    "#### Τιμή του p-value"
   ]
  },
  {
   "cell_type": "code",
   "execution_count": 68,
   "metadata": {},
   "outputs": [
    {
     "data": {
      "text/plain": [
       "0.8023000854883574"
      ]
     },
     "execution_count": 68,
     "metadata": {},
     "output_type": "execute_result"
    }
   ],
   "source": [
    "p_value"
   ]
  },
  {
   "cell_type": "markdown",
   "metadata": {},
   "source": [
    "- Εφόσον  το p value είναι πολύ μεγαλύτερο από το επίπεδο σημαντικότητας 0.05, δεν απορρίπτουμε την μηδενική υπόθεση.\n",
    "-  Επομένως, δεν μπορούμε να συμπεράνουμε από τα δεδομένα μας, ότι ο μέσος βαθμός των γυναικών είναι μεγαλύτερος από αυτόν των γυναικών."
   ]
  },
  {
   "cell_type": "markdown",
   "metadata": {},
   "source": [
    "#### c. Ο μέσος βαθμός στα Μαθηματικά 1 διαφέρει από το μέσο βαθμό στις Πιθανότητες -μεταξύ των φοιτητών που έχουν πάρει ή θα έπαιρναν το μάθημα «Στατιστική στην Πληροφορική»-;"
   ]
  },
  {
   "cell_type": "code",
   "execution_count": 69,
   "metadata": {},
   "outputs": [
    {
     "data": {
      "text/html": [
       "<div>\n",
       "<style scoped>\n",
       "    .dataframe tbody tr th:only-of-type {\n",
       "        vertical-align: middle;\n",
       "    }\n",
       "\n",
       "    .dataframe tbody tr th {\n",
       "        vertical-align: top;\n",
       "    }\n",
       "\n",
       "    .dataframe thead th {\n",
       "        text-align: right;\n",
       "    }\n",
       "</style>\n",
       "<table border=\"1\" class=\"dataframe\">\n",
       "  <thead>\n",
       "    <tr style=\"text-align: right;\">\n",
       "      <th></th>\n",
       "      <th>music</th>\n",
       "      <th>os</th>\n",
       "      <th>gender</th>\n",
       "      <th>height</th>\n",
       "      <th>weight</th>\n",
       "      <th>shoe</th>\n",
       "      <th>month</th>\n",
       "      <th>color</th>\n",
       "      <th>pet</th>\n",
       "      <th>number</th>\n",
       "      <th>prob</th>\n",
       "      <th>math</th>\n",
       "    </tr>\n",
       "  </thead>\n",
       "  <tbody>\n",
       "    <tr>\n",
       "      <th>0</th>\n",
       "      <td>rock</td>\n",
       "      <td>MacOS</td>\n",
       "      <td>F</td>\n",
       "      <td>1.71</td>\n",
       "      <td>68.0</td>\n",
       "      <td>39.0</td>\n",
       "      <td>oct</td>\n",
       "      <td>purple</td>\n",
       "      <td>dog</td>\n",
       "      <td>88.0</td>\n",
       "      <td>3.0</td>\n",
       "      <td>5.0</td>\n",
       "    </tr>\n",
       "    <tr>\n",
       "      <th>1</th>\n",
       "      <td>rock</td>\n",
       "      <td>Windows</td>\n",
       "      <td>F</td>\n",
       "      <td>1.68</td>\n",
       "      <td>52.0</td>\n",
       "      <td>39.0</td>\n",
       "      <td>aug</td>\n",
       "      <td>brown</td>\n",
       "      <td>cat</td>\n",
       "      <td>73.0</td>\n",
       "      <td>7.0</td>\n",
       "      <td>5.0</td>\n",
       "    </tr>\n",
       "    <tr>\n",
       "      <th>2</th>\n",
       "      <td>rock</td>\n",
       "      <td>MacOS</td>\n",
       "      <td>M</td>\n",
       "      <td>1.80</td>\n",
       "      <td>84.0</td>\n",
       "      <td>43.0</td>\n",
       "      <td>may</td>\n",
       "      <td>black</td>\n",
       "      <td>dog</td>\n",
       "      <td>7.0</td>\n",
       "      <td>8.0</td>\n",
       "      <td>10.0</td>\n",
       "    </tr>\n",
       "    <tr>\n",
       "      <th>3</th>\n",
       "      <td>metal</td>\n",
       "      <td>Windows</td>\n",
       "      <td>M</td>\n",
       "      <td>1.74</td>\n",
       "      <td>85.0</td>\n",
       "      <td>44.0</td>\n",
       "      <td>nov</td>\n",
       "      <td>black</td>\n",
       "      <td>dog</td>\n",
       "      <td>100.0</td>\n",
       "      <td>3.5</td>\n",
       "      <td>6.0</td>\n",
       "    </tr>\n",
       "    <tr>\n",
       "      <th>4</th>\n",
       "      <td>hiphop</td>\n",
       "      <td>Windows</td>\n",
       "      <td>M</td>\n",
       "      <td>1.77</td>\n",
       "      <td>63.0</td>\n",
       "      <td>42.0</td>\n",
       "      <td>jan</td>\n",
       "      <td>black</td>\n",
       "      <td>dog</td>\n",
       "      <td>42.0</td>\n",
       "      <td>9.5</td>\n",
       "      <td>10.0</td>\n",
       "    </tr>\n",
       "  </tbody>\n",
       "</table>\n",
       "</div>"
      ],
      "text/plain": [
       "    music       os gender  height  weight  shoe month   color  pet  number  \\\n",
       "0    rock    MacOS      F    1.71    68.0  39.0   oct  purple  dog    88.0   \n",
       "1    rock  Windows      F    1.68    52.0  39.0   aug   brown  cat    73.0   \n",
       "2    rock    MacOS      M    1.80    84.0  43.0   may   black  dog     7.0   \n",
       "3   metal  Windows      M    1.74    85.0  44.0   nov   black  dog   100.0   \n",
       "4  hiphop  Windows      M    1.77    63.0  42.0   jan   black  dog    42.0   \n",
       "\n",
       "   prob  math  \n",
       "0   3.0   5.0  \n",
       "1   7.0   5.0  \n",
       "2   8.0  10.0  \n",
       "3   3.5   6.0  \n",
       "4   9.5  10.0  "
      ]
     },
     "execution_count": 69,
     "metadata": {},
     "output_type": "execute_result"
    }
   ],
   "source": [
    "# keep only rows that have values for both math and prob\n",
    "df = df.dropna(subset=['math', 'prob'])\n",
    "df.head()"
   ]
  },
  {
   "cell_type": "code",
   "execution_count": 70,
   "metadata": {},
   "outputs": [
    {
     "data": {
      "text/plain": [
       "0    3.0\n",
       "1    7.0\n",
       "2    8.0\n",
       "3    3.5\n",
       "4    9.5\n",
       "Name: prob, dtype: float64"
      ]
     },
     "execution_count": 70,
     "metadata": {},
     "output_type": "execute_result"
    }
   ],
   "source": [
    "prob = df['prob']\n",
    "prob.head()\n",
    "# prob.count() # 107"
   ]
  },
  {
   "cell_type": "code",
   "execution_count": 71,
   "metadata": {},
   "outputs": [
    {
     "data": {
      "text/plain": [
       "0     5.0\n",
       "1     5.0\n",
       "2    10.0\n",
       "3     6.0\n",
       "4    10.0\n",
       "Name: math, dtype: float64"
      ]
     },
     "execution_count": 71,
     "metadata": {},
     "output_type": "execute_result"
    }
   ],
   "source": [
    "math = df['math']\n",
    "math.head()\n",
    "# math.count() # 107"
   ]
  },
  {
   "cell_type": "markdown",
   "metadata": {},
   "source": [
    "#### Υπολογίζουμε τον μέσο βαθμό όλων των φοιτητών στα Μαθηματικά Ι"
   ]
  },
  {
   "cell_type": "code",
   "execution_count": 72,
   "metadata": {},
   "outputs": [
    {
     "data": {
      "text/html": [
       "<div>\n",
       "<style scoped>\n",
       "    .dataframe tbody tr th:only-of-type {\n",
       "        vertical-align: middle;\n",
       "    }\n",
       "\n",
       "    .dataframe tbody tr th {\n",
       "        vertical-align: top;\n",
       "    }\n",
       "\n",
       "    .dataframe thead th {\n",
       "        text-align: right;\n",
       "    }\n",
       "</style>\n",
       "<table border=\"1\" class=\"dataframe\">\n",
       "  <thead>\n",
       "    <tr style=\"text-align: right;\">\n",
       "      <th></th>\n",
       "      <th>difference</th>\n",
       "    </tr>\n",
       "  </thead>\n",
       "  <tbody>\n",
       "    <tr>\n",
       "      <th>0</th>\n",
       "      <td>-2.0</td>\n",
       "    </tr>\n",
       "    <tr>\n",
       "      <th>1</th>\n",
       "      <td>2.0</td>\n",
       "    </tr>\n",
       "    <tr>\n",
       "      <th>2</th>\n",
       "      <td>-2.0</td>\n",
       "    </tr>\n",
       "    <tr>\n",
       "      <th>3</th>\n",
       "      <td>-2.5</td>\n",
       "    </tr>\n",
       "    <tr>\n",
       "      <th>4</th>\n",
       "      <td>-0.5</td>\n",
       "    </tr>\n",
       "  </tbody>\n",
       "</table>\n",
       "</div>"
      ],
      "text/plain": [
       "   difference\n",
       "0        -2.0\n",
       "1         2.0\n",
       "2        -2.0\n",
       "3        -2.5\n",
       "4        -0.5"
      ]
     },
     "execution_count": 72,
     "metadata": {},
     "output_type": "execute_result"
    }
   ],
   "source": [
    "data = pd.DataFrame({'difference':[x-y for x,y in zip(prob, math)]})\n",
    "data.head()"
   ]
  },
  {
   "cell_type": "code",
   "execution_count": 73,
   "metadata": {},
   "outputs": [
    {
     "data": {
      "text/plain": [
       "-0.205607476635514"
      ]
     },
     "execution_count": 73,
     "metadata": {},
     "output_type": "execute_result"
    }
   ],
   "source": [
    "delta_mean = data['difference'].mean()\n",
    "delta_mean"
   ]
  },
  {
   "cell_type": "markdown",
   "metadata": {},
   "source": [
    "#### Υπολογίζουμε την τυπική απόκλιση των βαθμών όλων των φοιτητών στα Μαθηματικά Ι"
   ]
  },
  {
   "cell_type": "code",
   "execution_count": 74,
   "metadata": {},
   "outputs": [
    {
     "data": {
      "text/plain": [
       "2.228623053007485"
      ]
     },
     "execution_count": 74,
     "metadata": {},
     "output_type": "execute_result"
    }
   ],
   "source": [
    "delta_std = data['difference'].std(ddof=1) # ddof=1 for sample standard deviation\n",
    "delta_std"
   ]
  },
  {
   "cell_type": "code",
   "execution_count": 76,
   "metadata": {},
   "outputs": [],
   "source": [
    "t_stat, p_value = stats.ttest_1samp(data['difference'], 0)"
   ]
  },
  {
   "cell_type": "markdown",
   "metadata": {},
   "source": [
    "#### t-statistic (σε απόλυτη τιμή)"
   ]
  },
  {
   "cell_type": "code",
   "execution_count": 90,
   "metadata": {},
   "outputs": [
    {
     "data": {
      "text/plain": [
       "0.9543203248437889"
      ]
     },
     "execution_count": 90,
     "metadata": {},
     "output_type": "execute_result"
    }
   ],
   "source": [
    "abs(t_stat)"
   ]
  },
  {
   "cell_type": "markdown",
   "metadata": {},
   "source": [
    "#### τιμή του p-value"
   ]
  },
  {
   "cell_type": "code",
   "execution_count": 91,
   "metadata": {},
   "outputs": [
    {
     "data": {
      "text/plain": [
       "0.34209277861965337"
      ]
     },
     "execution_count": 91,
     "metadata": {},
     "output_type": "execute_result"
    }
   ],
   "source": [
    "p_value"
   ]
  },
  {
   "cell_type": "markdown",
   "metadata": {},
   "source": [
    "- Αφού το p-value είναι πολύ μεγαλύτερο από 0.05, παρατηρούμε ότι δεν υπάρχει στατιστικά σημαντική διαφορά στους μέσους βαθμούς μεταξύ των δύο μαθημάτων σε επίπεδο σημαντικότητας 5%. Άρα δεν απορρίπτουμε τη μηδενική υπόθεση ότι δεν υπάρχει διαφορά στην μέση επίδοση των φοιτητών στα δύο μαθήματα.\n",
    "\n",
    "- Επομένως, μπορούμε να συμπεράνουμε ότι οι μέσοι βαθμοί στα Μαθηματικά 1 και στις Πιθανότητες δεν διαφέρουν σημαντικά μεταξύ των φοιτητών που έχουν πάρει ή θα έπαιρναν το μάθημα \"Στατιστική στην Πληροφορική\"."
   ]
  }
 ],
 "metadata": {
  "kernelspec": {
   "display_name": ".venv",
   "language": "python",
   "name": "python3"
  },
  "language_info": {
   "codemirror_mode": {
    "name": "ipython",
    "version": 3
   },
   "file_extension": ".py",
   "mimetype": "text/x-python",
   "name": "python",
   "nbconvert_exporter": "python",
   "pygments_lexer": "ipython3",
   "version": "3.11.7"
  }
 },
 "nbformat": 4,
 "nbformat_minor": 2
}
